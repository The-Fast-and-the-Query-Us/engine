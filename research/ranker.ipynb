{
 "cells": [
  {
   "metadata": {
    "ExecuteTime": {
     "end_time": "2025-03-18T20:43:02.285610Z",
     "start_time": "2025-03-18T20:43:02.283360Z"
    }
   },
   "cell_type": "code",
   "source": [
    "import requests\n",
    "from bs4 import BeautifulSoup"
   ],
   "id": "81d55a49914ff51",
   "outputs": [],
   "execution_count": 8
  },
  {
   "metadata": {
    "ExecuteTime": {
     "end_time": "2025-03-18T20:44:16.796352Z",
     "start_time": "2025-03-18T20:44:16.793937Z"
    }
   },
   "cell_type": "code",
   "source": [
    "url = \"https://html.duckduckgo.com/html/\"\n",
    "\n",
    "def search(query: str) -> list[str]:\n",
    "    data = {\n",
    "        \"q\": query,\n",
    "        \"kl\": \"en-us\",\n",
    "    }\n",
    "    response = requests.post(url, data=data)\n",
    "    soup = BeautifulSoup(response.text, \"html.parser\")\n",
    "    results = soup.find_all(\"a\", class_=\"result__url\")\n",
    "    return [result.get(\"href\") for result in results]"
   ],
   "id": "b6469bae4e01939",
   "outputs": [],
   "execution_count": 11
  },
  {
   "metadata": {
    "ExecuteTime": {
     "end_time": "2025-03-18T20:44:18.820788Z",
     "start_time": "2025-03-18T20:44:18.021873Z"
    }
   },
   "cell_type": "code",
   "source": "search(\"white house\")",
   "id": "799e7e1d3f508678",
   "outputs": [
    {
     "data": {
      "text/plain": [
       "['https://www.whitehouse.gov/',\n",
       " 'https://www.whitehouse.gov/about-the-white-house/',\n",
       " 'https://www.whitehouse.gov/news/',\n",
       " 'https://en.wikipedia.org/wiki/White_House',\n",
       " 'https://www.cnn.com/2025/03/18/europe/conor-mcgregor-ireland-immigration-white-house-intl-hnk/index.html',\n",
       " 'https://www.newsweek.com/donald-trump-white-house-rose-garden-cosmetic-changes-oval-office-2046361',\n",
       " 'https://bidenwhitehouse.archives.gov/about-the-white-house/the-grounds/the-white-house/',\n",
       " 'https://apnews.com/projects/white-house-behind-the-scenes/',\n",
       " 'https://www.history.com/topics/landmarks/white-house',\n",
       " 'https://www.nbcnews.com/politics/national-security/trump-white-house-asked-us-military-develop-options-panama-canal-offic-rcna195994']"
      ]
     },
     "execution_count": 12,
     "metadata": {},
     "output_type": "execute_result"
    }
   ],
   "execution_count": 12
  }
 ],
 "metadata": {
  "kernelspec": {
   "display_name": "Python 3",
   "language": "python",
   "name": "python3"
  },
  "language_info": {
   "codemirror_mode": {
    "name": "ipython",
    "version": 2
   },
   "file_extension": ".py",
   "mimetype": "text/x-python",
   "name": "python",
   "nbconvert_exporter": "python",
   "pygments_lexer": "ipython2",
   "version": "2.7.6"
  }
 },
 "nbformat": 4,
 "nbformat_minor": 5
}
